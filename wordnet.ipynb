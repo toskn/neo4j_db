{
  "nbformat": 4,
  "nbformat_minor": 0,
  "metadata": {
    "colab": {
      "name": "Ворднет на коленке.ipynb",
      "provenance": [],
      "collapsed_sections": [],
      "authorship_tag": "ABX9TyPJXEftxsoqgSZQh8YxoqSu",
      "include_colab_link": true
    },
    "kernelspec": {
      "name": "python3",
      "display_name": "Python 3"
    },
    "language_info": {
      "name": "python"
    }
  },
  "cells": [
    {
      "cell_type": "markdown",
      "metadata": {
        "id": "view-in-github",
        "colab_type": "text"
      },
      "source": [
        "<a href=\"https://colab.research.google.com/github/toskn/neo4j_db/blob/main/%D0%92%D0%BE%D1%80%D0%B4%D0%BD%D0%B5%D1%82_%D0%BD%D0%B0_%D0%BA%D0%BE%D0%BB%D0%B5%D0%BD%D0%BA%D0%B5.ipynb\" target=\"_parent\"><img src=\"https://colab.research.google.com/assets/colab-badge.svg\" alt=\"Open In Colab\"/></a>"
      ]
    },
    {
      "cell_type": "markdown",
      "metadata": {
        "id": "sML2xTfb1CfC"
      },
      "source": [
        "# Гиперонимия"
      ]
    },
    {
      "cell_type": "markdown",
      "metadata": {
        "id": "nK2UQlncgtNr"
      },
      "source": [
        "Скачивам таблицу <гипоним гипероним частота-излечения-отношения> [отсюда](https://nlpub.ru/Russian_Distributional_Thesaurus)"
      ]
    },
    {
      "cell_type": "code",
      "metadata": {
        "colab": {
          "base_uri": "https://localhost:8080/"
        },
        "id": "pCuQi64ZPZh_",
        "outputId": "f76865c7-1cb3-46fe-b341-e9a7eda18fe9"
      },
      "source": [
        "!wget http://panchenko.me/data/joint/isas/ru-librusec-wiki-diff.csv.gz"
      ],
      "execution_count": null,
      "outputs": [
        {
          "output_type": "stream",
          "text": [
            "--2021-03-29 13:52:42--  http://panchenko.me/data/joint/isas/ru-librusec-wiki-diff.csv.gz\n",
            "Resolving panchenko.me (panchenko.me)... 130.104.253.4\n",
            "Connecting to panchenko.me (panchenko.me)|130.104.253.4|:80... connected.\n",
            "HTTP request sent, awaiting response... 200 OK\n",
            "Length: 15706045 (15M) [application/x-gzip]\n",
            "Saving to: ‘ru-librusec-wiki-diff.csv.gz’\n",
            "\n",
            "ru-librusec-wiki-di 100%[===================>]  14.98M  4.35MB/s    in 3.5s    \n",
            "\n",
            "2021-03-29 13:52:45 (4.31 MB/s) - ‘ru-librusec-wiki-diff.csv.gz’ saved [15706045/15706045]\n",
            "\n"
          ],
          "name": "stdout"
        }
      ]
    },
    {
      "cell_type": "markdown",
      "metadata": {
        "id": "xbtsshHShBdf"
      },
      "source": [
        "Читаем ее в датафрейм"
      ]
    },
    {
      "cell_type": "code",
      "metadata": {
        "id": "OcRb0xKzQeNK"
      },
      "source": [
        "import pandas as pd"
      ],
      "execution_count": null,
      "outputs": []
    },
    {
      "cell_type": "code",
      "metadata": {
        "colab": {
          "base_uri": "https://localhost:8080/"
        },
        "id": "BGRyw0NzRZpW",
        "outputId": "8ac22e9f-0f4c-42e7-8d16-415940b64f9f"
      },
      "source": [
        "raw_data = pd.read_csv('ru-librusec-wiki-diff.csv.gz', compression='gzip',\n",
        "                   error_bad_lines=False, sep='\\t')\n",
        "raw_data.info()"
      ],
      "execution_count": null,
      "outputs": [
        {
          "output_type": "stream",
          "text": [
            "<class 'pandas.core.frame.DataFrame'>\n",
            "RangeIndex: 1597651 entries, 0 to 1597650\n",
            "Data columns (total 3 columns):\n",
            " #   Column    Non-Null Count    Dtype \n",
            "---  ------    --------------    ----- \n",
            " 0   hyponym   1597650 non-null  object\n",
            " 1   hypernym  1597651 non-null  object\n",
            " 2   freq      1597651 non-null  int64 \n",
            "dtypes: int64(1), object(2)\n",
            "memory usage: 36.6+ MB\n"
          ],
          "name": "stdout"
        }
      ]
    },
    {
      "cell_type": "markdown",
      "metadata": {
        "id": "fLB_66_9hJy0"
      },
      "source": [
        "Возьмем только пары с частотой больше 10, чтобы уменьшить объем данных и выкинуть какие-то очевидно редкие случаи"
      ]
    },
    {
      "cell_type": "code",
      "metadata": {
        "colab": {
          "base_uri": "https://localhost:8080/"
        },
        "id": "98zEbK7DRgqi",
        "outputId": "021b994e-d371-42dd-8086-6f580bbf569e"
      },
      "source": [
        "data = raw_data[raw_data.freq >= 10]\n",
        "data.info()"
      ],
      "execution_count": null,
      "outputs": [
        {
          "output_type": "stream",
          "text": [
            "<class 'pandas.core.frame.DataFrame'>\n",
            "Int64Index: 72732 entries, 10 to 1597626\n",
            "Data columns (total 3 columns):\n",
            " #   Column    Non-Null Count  Dtype \n",
            "---  ------    --------------  ----- \n",
            " 0   hyponym   72732 non-null  object\n",
            " 1   hypernym  72732 non-null  object\n",
            " 2   freq      72732 non-null  int64 \n",
            "dtypes: int64(1), object(2)\n",
            "memory usage: 2.2+ MB\n"
          ],
          "name": "stdout"
        }
      ]
    },
    {
      "cell_type": "code",
      "metadata": {
        "colab": {
          "base_uri": "https://localhost:8080/",
          "height": 197
        },
        "id": "qXQ5LqKwR4vM",
        "outputId": "098cdf7a-af60-4b98-b4ac-c47030406fd4"
      },
      "source": [
        "data.head()"
      ],
      "execution_count": null,
      "outputs": [
        {
          "output_type": "execute_result",
          "data": {
            "text/html": [
              "<div>\n",
              "<style scoped>\n",
              "    .dataframe tbody tr th:only-of-type {\n",
              "        vertical-align: middle;\n",
              "    }\n",
              "\n",
              "    .dataframe tbody tr th {\n",
              "        vertical-align: top;\n",
              "    }\n",
              "\n",
              "    .dataframe thead th {\n",
              "        text-align: right;\n",
              "    }\n",
              "</style>\n",
              "<table border=\"1\" class=\"dataframe\">\n",
              "  <thead>\n",
              "    <tr style=\"text-align: right;\">\n",
              "      <th></th>\n",
              "      <th>hyponym</th>\n",
              "      <th>hypernym</th>\n",
              "      <th>freq</th>\n",
              "    </tr>\n",
              "  </thead>\n",
              "  <tbody>\n",
              "    <tr>\n",
              "      <th>10</th>\n",
              "      <td>грызун</td>\n",
              "      <td>животное</td>\n",
              "      <td>60</td>\n",
              "    </tr>\n",
              "    <tr>\n",
              "      <th>11</th>\n",
              "      <td>грызун</td>\n",
              "      <td>животных</td>\n",
              "      <td>24</td>\n",
              "    </tr>\n",
              "    <tr>\n",
              "      <th>12</th>\n",
              "      <td>грызун</td>\n",
              "      <td>млекопитающее</td>\n",
              "      <td>22</td>\n",
              "    </tr>\n",
              "    <tr>\n",
              "      <th>13</th>\n",
              "      <td>грызун</td>\n",
              "      <td>кошка</td>\n",
              "      <td>18</td>\n",
              "    </tr>\n",
              "    <tr>\n",
              "      <th>14</th>\n",
              "      <td>грызун</td>\n",
              "      <td>кошками</td>\n",
              "      <td>18</td>\n",
              "    </tr>\n",
              "  </tbody>\n",
              "</table>\n",
              "</div>"
            ],
            "text/plain": [
              "   hyponym       hypernym  freq\n",
              "10  грызун       животное    60\n",
              "11  грызун       животных    24\n",
              "12  грызун  млекопитающее    22\n",
              "13  грызун          кошка    18\n",
              "14  грызун        кошками    18"
            ]
          },
          "metadata": {
            "tags": []
          },
          "execution_count": 190
        }
      ]
    },
    {
      "cell_type": "markdown",
      "metadata": {
        "id": "HD2Np4ANhh5r"
      },
      "source": [
        "Посмотрим на количество уникальных значений"
      ]
    },
    {
      "cell_type": "code",
      "metadata": {
        "colab": {
          "base_uri": "https://localhost:8080/"
        },
        "id": "dpC_PeF-TB4f",
        "outputId": "be420ae6-c9ba-4fd9-ad53-e19b0ed33f51"
      },
      "source": [
        "pon = set(data.hyponym)\n",
        "len(pon)"
      ],
      "execution_count": null,
      "outputs": [
        {
          "output_type": "execute_result",
          "data": {
            "text/plain": [
              "19976"
            ]
          },
          "metadata": {
            "tags": []
          },
          "execution_count": 164
        }
      ]
    },
    {
      "cell_type": "code",
      "metadata": {
        "colab": {
          "base_uri": "https://localhost:8080/"
        },
        "id": "NGr74iVyTHR8",
        "outputId": "db9fba07-a0d9-495d-a4e7-414a57ffd66b"
      },
      "source": [
        "per = set(data.hypernym)\n",
        "len(per)"
      ],
      "execution_count": null,
      "outputs": [
        {
          "output_type": "execute_result",
          "data": {
            "text/plain": [
              "9243"
            ]
          },
          "metadata": {
            "tags": []
          },
          "execution_count": 165
        }
      ]
    },
    {
      "cell_type": "markdown",
      "metadata": {
        "id": "qSfK-0kIh5Qz"
      },
      "source": [
        "Отфильтруем слова, которые есть ив гипонимах, и в гиперонимах"
      ]
    },
    {
      "cell_type": "code",
      "metadata": {
        "colab": {
          "base_uri": "https://localhost:8080/"
        },
        "id": "zrSukW4ASxyI",
        "outputId": "13397c55-cf69-427c-a65c-6e82edb08715"
      },
      "source": [
        "both = [x for x in per if x in pon]\n",
        "len(both)"
      ],
      "execution_count": null,
      "outputs": [
        {
          "output_type": "execute_result",
          "data": {
            "text/plain": [
              "2540"
            ]
          },
          "metadata": {
            "tags": []
          },
          "execution_count": 166
        }
      ]
    },
    {
      "cell_type": "code",
      "metadata": {
        "colab": {
          "base_uri": "https://localhost:8080/"
        },
        "id": "XVHeb3ncUmVF",
        "outputId": "bd22a8b1-32e9-4c0a-ace6-0560f6331977"
      },
      "source": [
        "pip install pymorphy2"
      ],
      "execution_count": null,
      "outputs": [
        {
          "output_type": "stream",
          "text": [
            "Collecting pymorphy2\n",
            "\u001b[?25l  Downloading https://files.pythonhosted.org/packages/07/57/b2ff2fae3376d4f3c697b9886b64a54b476e1a332c67eee9f88e7f1ae8c9/pymorphy2-0.9.1-py3-none-any.whl (55kB)\n",
            "\u001b[K     |████████████████████████████████| 61kB 3.1MB/s \n",
            "\u001b[?25hCollecting pymorphy2-dicts-ru<3.0,>=2.4\n",
            "\u001b[?25l  Downloading https://files.pythonhosted.org/packages/3a/79/bea0021eeb7eeefde22ef9e96badf174068a2dd20264b9a378f2be1cdd9e/pymorphy2_dicts_ru-2.4.417127.4579844-py2.py3-none-any.whl (8.2MB)\n",
            "\u001b[K     |████████████████████████████████| 8.2MB 13.4MB/s \n",
            "\u001b[?25hCollecting dawg-python>=0.7.1\n",
            "  Downloading https://files.pythonhosted.org/packages/6a/84/ff1ce2071d4c650ec85745766c0047ccc3b5036f1d03559fd46bb38b5eeb/DAWG_Python-0.7.2-py2.py3-none-any.whl\n",
            "Requirement already satisfied: docopt>=0.6 in /usr/local/lib/python3.7/dist-packages (from pymorphy2) (0.6.2)\n",
            "Installing collected packages: pymorphy2-dicts-ru, dawg-python, pymorphy2\n",
            "Successfully installed dawg-python-0.7.2 pymorphy2-0.9.1 pymorphy2-dicts-ru-2.4.417127.4579844\n"
          ],
          "name": "stdout"
        }
      ]
    },
    {
      "cell_type": "code",
      "metadata": {
        "id": "I4Nf5jB4Tfmx"
      },
      "source": [
        "import pymorphy2\n",
        "\n",
        "morph = pymorphy2.MorphAnalyzer()"
      ],
      "execution_count": null,
      "outputs": []
    },
    {
      "cell_type": "code",
      "metadata": {
        "id": "M1pNECtbulZH"
      },
      "source": [
        "from collections import Counter"
      ],
      "execution_count": null,
      "outputs": []
    },
    {
      "cell_type": "code",
      "metadata": {
        "colab": {
          "base_uri": "https://localhost:8080/"
        },
        "id": "7-K3-vafuri0",
        "outputId": "e472a023-24b1-44f5-cce9-2dc1563f5442"
      },
      "source": [
        "Counter([morph.parse(b)[0].tag.POS for b in both]).most_common()"
      ],
      "execution_count": null,
      "outputs": [
        {
          "output_type": "execute_result",
          "data": {
            "text/plain": [
              "[('NOUN', 2457),\n",
              " ('ADJF', 40),\n",
              " ('INFN', 12),\n",
              " ('ADVB', 7),\n",
              " ('VERB', 6),\n",
              " ('PREP', 6),\n",
              " ('PRTF', 4),\n",
              " ('ADJS', 3),\n",
              " ('PRCL', 2),\n",
              " ('GRND', 1),\n",
              " ('COMP', 1),\n",
              " ('CONJ', 1)]"
            ]
          },
          "metadata": {
            "tags": []
          },
          "execution_count": 169
        }
      ]
    },
    {
      "cell_type": "markdown",
      "metadata": {
        "id": "tuwUxU6ShoKb"
      },
      "source": [
        "Напишем функцию, чтобы отфильровать среди свществительных и прилагательных только слова в ед.ч. и номинативе, и убрать все словосочетания"
      ]
    },
    {
      "cell_type": "code",
      "metadata": {
        "id": "ROKNZIKHVBQj"
      },
      "source": [
        "def filter_nom(word):\n",
        "    if len(word.split(' ')) > 1:\n",
        "        return False\n",
        "    p = morph.parse(word)[0]\n",
        "\n",
        "    if p.tag.POS not in [\"NOUN\", \"ADJF\"]:\n",
        "        return True\n",
        "\n",
        "    if p.tag.case is None:\n",
        "        return False\n",
        "\n",
        "    if p.tag.case != 'nomn':\n",
        "        return False\n",
        "    \n",
        "    if p.tag.number != 'sing':\n",
        "        return False\n",
        "    \n",
        "    return True"
      ],
      "execution_count": null,
      "outputs": []
    },
    {
      "cell_type": "code",
      "metadata": {
        "colab": {
          "base_uri": "https://localhost:8080/"
        },
        "id": "5HBJMfMOWOM0",
        "outputId": "afde66e2-89fb-4c70-e86c-0d0ce327e935"
      },
      "source": [
        "filter_nom('кошка')"
      ],
      "execution_count": null,
      "outputs": [
        {
          "output_type": "execute_result",
          "data": {
            "text/plain": [
              "True"
            ]
          },
          "metadata": {
            "tags": []
          },
          "execution_count": 171
        }
      ]
    },
    {
      "cell_type": "code",
      "metadata": {
        "colab": {
          "base_uri": "https://localhost:8080/"
        },
        "id": "oj9eQLAfWSQq",
        "outputId": "74bb6636-85d3-438b-a21e-40ba4268ebdb"
      },
      "source": [
        "filter_nom('кошкой')"
      ],
      "execution_count": null,
      "outputs": [
        {
          "output_type": "execute_result",
          "data": {
            "text/plain": [
              "False"
            ]
          },
          "metadata": {
            "tags": []
          },
          "execution_count": 172
        }
      ]
    },
    {
      "cell_type": "code",
      "metadata": {
        "colab": {
          "base_uri": "https://localhost:8080/"
        },
        "id": "LIWyFODEYfVN",
        "outputId": "3a1244de-7477-4221-acbc-7c3d37c7bf5a"
      },
      "source": [
        "filter_nom('кошки')"
      ],
      "execution_count": null,
      "outputs": [
        {
          "output_type": "execute_result",
          "data": {
            "text/plain": [
              "False"
            ]
          },
          "metadata": {
            "tags": []
          },
          "execution_count": 173
        }
      ]
    },
    {
      "cell_type": "code",
      "metadata": {
        "colab": {
          "base_uri": "https://localhost:8080/"
        },
        "id": "iFFapIwhWrBK",
        "outputId": "23872011-579c-46f5-ddb6-1c2b70b2d768"
      },
      "source": [
        "filter_nom('плавать')"
      ],
      "execution_count": null,
      "outputs": [
        {
          "output_type": "execute_result",
          "data": {
            "text/plain": [
              "True"
            ]
          },
          "metadata": {
            "tags": []
          },
          "execution_count": 174
        }
      ]
    },
    {
      "cell_type": "code",
      "metadata": {
        "colab": {
          "base_uri": "https://localhost:8080/"
        },
        "id": "UuLLqpHmv0tF",
        "outputId": "e95fc8b7-db96-448a-b27f-2acefdffd2ef"
      },
      "source": [
        "filter_nom('быстрый')"
      ],
      "execution_count": null,
      "outputs": [
        {
          "output_type": "execute_result",
          "data": {
            "text/plain": [
              "True"
            ]
          },
          "metadata": {
            "tags": []
          },
          "execution_count": 175
        }
      ]
    },
    {
      "cell_type": "markdown",
      "metadata": {
        "id": "l-VHrFqOiFJZ"
      },
      "source": [
        "Отфильтруем слова еще раз с помощью нашей функции"
      ]
    },
    {
      "cell_type": "code",
      "metadata": {
        "colab": {
          "base_uri": "https://localhost:8080/"
        },
        "id": "V78oUau6T8nt",
        "outputId": "1afaeacc-2903-449d-a180-70e7c4540e7d"
      },
      "source": [
        "noms = [x for x in both if filter_nom(x)]\n",
        "len(noms)"
      ],
      "execution_count": null,
      "outputs": [
        {
          "output_type": "execute_result",
          "data": {
            "text/plain": [
              "1307"
            ]
          },
          "metadata": {
            "tags": []
          },
          "execution_count": 176
        }
      ]
    },
    {
      "cell_type": "code",
      "metadata": {
        "colab": {
          "base_uri": "https://localhost:8080/"
        },
        "id": "3clbbMefWQ-0",
        "outputId": "42a50a77-b164-4a7f-c20f-7f7904b694d5"
      },
      "source": [
        "print(noms[:100])"
      ],
      "execution_count": null,
      "outputs": [
        {
          "output_type": "stream",
          "text": [
            "['идеал', 'мышца', 'желудок', 'богатство', 'плащ', 'гигант', 'причина', 'случайность', 'обычай', 'уважение', 'полет', 'сад', 'восхищение', 'таран', 'специализация', 'отношение', 'палатка', 'дочь', 'микроб', 'мед', 'колесница', 'нападение', 'устройство', 'дешевка', 'быт', 'каша', 'раса', 'национальность', 'баня', 'проем', 'отвращение', 'слой', 'свидетель', 'свобода', 'событие', 'передача', 'тоска', 'насекомое', 'ткань', 'озеро', 'капитал', 'корабль', 'потеря', 'кислота', 'подметка', 'лучник', 'бич', 'поведение', 'славянин', 'экипаж', 'служба', 'пушка', 'корень', 'змея', 'режим', 'перстень', 'негр', 'пан', 'оформление', 'катаклизм', 'автобиография', 'слава', 'папоротник', 'идеализм', 'выбор', 'сухарь', 'глагол', 'сон', 'быть', 'творчество', 'обмундирование', 'военнопленный', 'старость', 'ужин', 'провокация', 'спутник', 'жених', 'недомогание', 'партия', 'антибиотик', 'древесина', 'покупка', 'затрата', 'пища', 'мать', 'обращение', 'бедняк', 'сюрприз', 'лозунг', 'ботаник', 'трофей', 'сочетание', 'рост', 'святотатство', 'емкость', 'коллектив', 'сумма', 'реклама', 'признание', 'парадокс']\n"
          ],
          "name": "stdout"
        }
      ]
    },
    {
      "cell_type": "markdown",
      "metadata": {
        "id": "-vzFAPCMiLrX"
      },
      "source": [
        "Данных получается достаточно много, возьмем только те пары, которые встретились 30 и более раз. Заодно выбросим все дубликаты, если они вдруг есть"
      ]
    },
    {
      "cell_type": "code",
      "metadata": {
        "colab": {
          "base_uri": "https://localhost:8080/",
          "height": 407
        },
        "id": "ILjCXJyqXPpR",
        "outputId": "4151b281-4801-4099-93ac-a63617e6b0b7"
      },
      "source": [
        "sgnom_data = data[data.hyponym.isin(noms) & data.hypernym.isin(noms)]\n",
        "res = sgnom_data[sgnom_data.freq >= 30]\n",
        "res.drop_duplicates(inplace=False)\n",
        "res"
      ],
      "execution_count": null,
      "outputs": [
        {
          "output_type": "execute_result",
          "data": {
            "text/html": [
              "<div>\n",
              "<style scoped>\n",
              "    .dataframe tbody tr th:only-of-type {\n",
              "        vertical-align: middle;\n",
              "    }\n",
              "\n",
              "    .dataframe tbody tr th {\n",
              "        vertical-align: top;\n",
              "    }\n",
              "\n",
              "    .dataframe thead th {\n",
              "        text-align: right;\n",
              "    }\n",
              "</style>\n",
              "<table border=\"1\" class=\"dataframe\">\n",
              "  <thead>\n",
              "    <tr style=\"text-align: right;\">\n",
              "      <th></th>\n",
              "      <th>hyponym</th>\n",
              "      <th>hypernym</th>\n",
              "      <th>freq</th>\n",
              "    </tr>\n",
              "  </thead>\n",
              "  <tbody>\n",
              "    <tr>\n",
              "      <th>10</th>\n",
              "      <td>грызун</td>\n",
              "      <td>животное</td>\n",
              "      <td>60</td>\n",
              "    </tr>\n",
              "    <tr>\n",
              "      <th>190</th>\n",
              "      <td>результат</td>\n",
              "      <td>образ</td>\n",
              "      <td>38</td>\n",
              "    </tr>\n",
              "    <tr>\n",
              "      <th>635</th>\n",
              "      <td>мясо</td>\n",
              "      <td>продукт</td>\n",
              "      <td>1196</td>\n",
              "    </tr>\n",
              "    <tr>\n",
              "      <th>638</th>\n",
              "      <td>мясо</td>\n",
              "      <td>пища</td>\n",
              "      <td>168</td>\n",
              "    </tr>\n",
              "    <tr>\n",
              "      <th>640</th>\n",
              "      <td>мясо</td>\n",
              "      <td>сочетание</td>\n",
              "      <td>98</td>\n",
              "    </tr>\n",
              "    <tr>\n",
              "      <th>...</th>\n",
              "      <td>...</td>\n",
              "      <td>...</td>\n",
              "      <td>...</td>\n",
              "    </tr>\n",
              "    <tr>\n",
              "      <th>1590333</th>\n",
              "      <td>учитель</td>\n",
              "      <td>специалист</td>\n",
              "      <td>48</td>\n",
              "    </tr>\n",
              "    <tr>\n",
              "      <th>1590334</th>\n",
              "      <td>учитель</td>\n",
              "      <td>работник</td>\n",
              "      <td>38</td>\n",
              "    </tr>\n",
              "    <tr>\n",
              "      <th>1594746</th>\n",
              "      <td>теория</td>\n",
              "      <td>наука</td>\n",
              "      <td>72</td>\n",
              "    </tr>\n",
              "    <tr>\n",
              "      <th>1594747</th>\n",
              "      <td>теория</td>\n",
              "      <td>дисциплина</td>\n",
              "      <td>30</td>\n",
              "    </tr>\n",
              "    <tr>\n",
              "      <th>1595249</th>\n",
              "      <td>напиток</td>\n",
              "      <td>товар</td>\n",
              "      <td>30</td>\n",
              "    </tr>\n",
              "  </tbody>\n",
              "</table>\n",
              "<p>1300 rows × 3 columns</p>\n",
              "</div>"
            ],
            "text/plain": [
              "           hyponym    hypernym  freq\n",
              "10          грызун    животное    60\n",
              "190      результат       образ    38\n",
              "635           мясо     продукт  1196\n",
              "638           мясо        пища   168\n",
              "640           мясо   сочетание    98\n",
              "...            ...         ...   ...\n",
              "1590333    учитель  специалист    48\n",
              "1590334    учитель    работник    38\n",
              "1594746     теория       наука    72\n",
              "1594747     теория  дисциплина    30\n",
              "1595249    напиток       товар    30\n",
              "\n",
              "[1300 rows x 3 columns]"
            ]
          },
          "metadata": {
            "tags": []
          },
          "execution_count": 178
        }
      ]
    },
    {
      "cell_type": "markdown",
      "metadata": {
        "id": "15dpZzRPieDd"
      },
      "source": [
        "Посчитаем количество узлов"
      ]
    },
    {
      "cell_type": "code",
      "metadata": {
        "colab": {
          "base_uri": "https://localhost:8080/"
        },
        "id": "nqb0Ogp7XymU",
        "outputId": "4ed898a0-9d9e-4f06-a270-8ec51574b245"
      },
      "source": [
        "nodes = set(res.hyponym) | set(res.hypernym)\n",
        "len(nodes)"
      ],
      "execution_count": null,
      "outputs": [
        {
          "output_type": "execute_result",
          "data": {
            "text/plain": [
              "693"
            ]
          },
          "metadata": {
            "tags": []
          },
          "execution_count": 179
        }
      ]
    },
    {
      "cell_type": "code",
      "metadata": {
        "colab": {
          "base_uri": "https://localhost:8080/"
        },
        "id": "ZhiP0cTlv-Df",
        "outputId": "e2d8f2e1-cb1c-402b-bf80-3181285247aa"
      },
      "source": [
        "nodes_dict = {n: {'lemma': n,\n",
        "                  'pos': morph.parse(n)[0].tag.POS} \n",
        "              for n in nodes}\n",
        "[x for x in nodes_dict.values() if x['pos'] != \"NOUN\"]"
      ],
      "execution_count": null,
      "outputs": [
        {
          "output_type": "execute_result",
          "data": {
            "text/plain": [
              "[{'lemma': 'ночью', 'pos': 'ADVB'},\n",
              " {'lemma': 'домашний', 'pos': 'ADJF'},\n",
              " {'lemma': 'напасть', 'pos': 'INFN'},\n",
              " {'lemma': 'красный', 'pos': 'ADJF'},\n",
              " {'lemma': 'сегодня', 'pos': 'ADVB'},\n",
              " {'lemma': 'уже', 'pos': 'ADVB'},\n",
              " {'lemma': 'ж', 'pos': 'PRCL'},\n",
              " {'lemma': 'к', 'pos': 'PREP'},\n",
              " {'lemma': 'служить', 'pos': 'INFN'},\n",
              " {'lemma': 'уж', 'pos': 'ADVB'},\n",
              " {'lemma': 'добро', 'pos': 'ADVB'},\n",
              " {'lemma': 'холодный', 'pos': 'ADJF'},\n",
              " {'lemma': 'ли', 'pos': 'CONJ'},\n",
              " {'lemma': 'с', 'pos': 'PREP'},\n",
              " {'lemma': 'страсть', 'pos': 'ADVB'},\n",
              " {'lemma': 'горючее', 'pos': 'ADJF'},\n",
              " {'lemma': 'до', 'pos': 'PREP'},\n",
              " {'lemma': 'добрый', 'pos': 'ADJF'},\n",
              " {'lemma': 'у', 'pos': 'PREP'},\n",
              " {'lemma': 'стать', 'pos': 'INFN'},\n",
              " {'lemma': 'были', 'pos': 'VERB'},\n",
              " {'lemma': 'черный', 'pos': 'ADJF'},\n",
              " {'lemma': 'пресмыкаться', 'pos': 'INFN'},\n",
              " {'lemma': 'быть', 'pos': 'INFN'},\n",
              " {'lemma': 'дать', 'pos': 'INFN'},\n",
              " {'lemma': 'легкий', 'pos': 'ADJF'}]"
            ]
          },
          "metadata": {
            "tags": []
          },
          "execution_count": 180
        }
      ]
    },
    {
      "cell_type": "code",
      "metadata": {
        "colab": {
          "base_uri": "https://localhost:8080/",
          "height": 197
        },
        "id": "EvPyckY_yOHN",
        "outputId": "7d2ad45b-582b-4210-9564-33816fcad0c9"
      },
      "source": [
        "word_nodes = pd.DataFrame([x for x in nodes_dict.values()])\n",
        "word_nodes.head()"
      ],
      "execution_count": null,
      "outputs": [
        {
          "output_type": "execute_result",
          "data": {
            "text/html": [
              "<div>\n",
              "<style scoped>\n",
              "    .dataframe tbody tr th:only-of-type {\n",
              "        vertical-align: middle;\n",
              "    }\n",
              "\n",
              "    .dataframe tbody tr th {\n",
              "        vertical-align: top;\n",
              "    }\n",
              "\n",
              "    .dataframe thead th {\n",
              "        text-align: right;\n",
              "    }\n",
              "</style>\n",
              "<table border=\"1\" class=\"dataframe\">\n",
              "  <thead>\n",
              "    <tr style=\"text-align: right;\">\n",
              "      <th></th>\n",
              "      <th>lemma</th>\n",
              "      <th>pos</th>\n",
              "    </tr>\n",
              "  </thead>\n",
              "  <tbody>\n",
              "    <tr>\n",
              "      <th>0</th>\n",
              "      <td>личность</td>\n",
              "      <td>NOUN</td>\n",
              "    </tr>\n",
              "    <tr>\n",
              "      <th>1</th>\n",
              "      <td>карьера</td>\n",
              "      <td>NOUN</td>\n",
              "    </tr>\n",
              "    <tr>\n",
              "      <th>2</th>\n",
              "      <td>фермент</td>\n",
              "      <td>NOUN</td>\n",
              "    </tr>\n",
              "    <tr>\n",
              "      <th>3</th>\n",
              "      <td>книжка</td>\n",
              "      <td>NOUN</td>\n",
              "    </tr>\n",
              "    <tr>\n",
              "      <th>4</th>\n",
              "      <td>белье</td>\n",
              "      <td>NOUN</td>\n",
              "    </tr>\n",
              "  </tbody>\n",
              "</table>\n",
              "</div>"
            ],
            "text/plain": [
              "      lemma   pos\n",
              "0  личность  NOUN\n",
              "1   карьера  NOUN\n",
              "2   фермент  NOUN\n",
              "3    книжка  NOUN\n",
              "4     белье  NOUN"
            ]
          },
          "metadata": {
            "tags": []
          },
          "execution_count": 194
        }
      ]
    },
    {
      "cell_type": "markdown",
      "metadata": {
        "id": "2EhKO0xeihea"
      },
      "source": [
        "Сохраним в файлы"
      ]
    },
    {
      "cell_type": "code",
      "metadata": {
        "id": "T5Mte6I5aSud"
      },
      "source": [
        "res.to_csv('hyponyms.csv', index=False, sep='\\t', header=['Source', 'Target', 'Freq'])"
      ],
      "execution_count": null,
      "outputs": []
    },
    {
      "cell_type": "code",
      "metadata": {
        "id": "x5p_qP9yyLSu"
      },
      "source": [
        "word_nodes.to_csv('word_nodes.csv', index=False, sep='\\t', header=['Lemma', 'POS'])"
      ],
      "execution_count": null,
      "outputs": []
    },
    {
      "cell_type": "code",
      "metadata": {
        "id": "Nm7mLve4xO6w"
      },
      "source": [
        "import json"
      ],
      "execution_count": null,
      "outputs": []
    },
    {
      "cell_type": "code",
      "metadata": {
        "id": "2EVGRkDZxRMq"
      },
      "source": [
        "with open('word_nodes.json', 'w', encoding='utf-8') as f:\n",
        "    json.dump(nodes_dict, f, ensure_ascii=False, indent=2)"
      ],
      "execution_count": null,
      "outputs": []
    },
    {
      "cell_type": "markdown",
      "metadata": {
        "id": "7nccCoHG1JRI"
      },
      "source": [
        "# Смыслы"
      ]
    },
    {
      "cell_type": "code",
      "metadata": {
        "colab": {
          "base_uri": "https://localhost:8080/"
        },
        "id": "GNWp4LUB1LmU",
        "outputId": "c8d110fe-947c-44fa-ec4f-60c862b3dc1a"
      },
      "source": [
        "!wget http://panchenko.me/data/joint/ru/ddt-ru150g_trigram__FreqSigLMI__PruneContext_s_0.0_w_10_f_10_wf_0_wpfmax_1000_wpfmin_2_p_1000__AggrPerFt__SimCount_sc_one_ac_False__SimSortlimit_200_minsim_2-cw-e0-N200-n200-minsize5.csv.gz"
      ],
      "execution_count": null,
      "outputs": [
        {
          "output_type": "stream",
          "text": [
            "--2021-03-29 16:34:48--  http://panchenko.me/data/joint/ru/ddt-ru150g_trigram__FreqSigLMI__PruneContext_s_0.0_w_10_f_10_wf_0_wpfmax_1000_wpfmin_2_p_1000__AggrPerFt__SimCount_sc_one_ac_False__SimSortlimit_200_minsim_2-cw-e0-N200-n200-minsize5.csv.gz\n",
            "Resolving panchenko.me (panchenko.me)... 130.104.253.4\n",
            "Connecting to panchenko.me (panchenko.me)|130.104.253.4|:80... connected.\n",
            "HTTP request sent, awaiting response... 200 OK\n",
            "Length: 917204524 (875M) [application/x-gzip]\n",
            "Saving to: ‘ddt-ru150g_trigram__FreqSigLMI__PruneContext_s_0.0_w_10_f_10_wf_0_wpfmax_1000_wpfmin_2_p_1000__AggrPerFt__SimCount_sc_one_ac_False__SimSortlimit_200_minsim_2-cw-e0-N200-n200-minsize5.csv.gz’\n",
            "\n",
            "ddt-ru150g_trigram_ 100%[===================>] 874.71M  4.76MB/s    in 3m 1s   \n",
            "\n",
            "2021-03-29 16:37:49 (4.84 MB/s) - ‘ddt-ru150g_trigram__FreqSigLMI__PruneContext_s_0.0_w_10_f_10_wf_0_wpfmax_1000_wpfmin_2_p_1000__AggrPerFt__SimCount_sc_one_ac_False__SimSortlimit_200_minsim_2-cw-e0-N200-n200-minsize5.csv.gz’ saved [917204524/917204524]\n",
            "\n"
          ],
          "name": "stdout"
        }
      ]
    },
    {
      "cell_type": "code",
      "metadata": {
        "id": "LkcZSWU615Yb"
      },
      "source": [
        "filename = 'ddt-ru150g_trigram__FreqSigLMI__PruneContext_s_0.0_w_10_f_10_wf_0_wpfmax_1000_wpfmin_2_p_1000__AggrPerFt__SimCount_sc_one_ac_False__SimSortlimit_200_minsim_2-cw-e0-N200-n200-minsize5.csv.gz'\n",
        "\n",
        "raw_meanings = pd.read_csv(filename, compression='gzip',\n",
        "                   error_bad_lines=False, sep='\\t')"
      ],
      "execution_count": null,
      "outputs": []
    },
    {
      "cell_type": "code",
      "metadata": {
        "colab": {
          "base_uri": "https://localhost:8080/"
        },
        "id": "0pyWjMaE2Tp5",
        "outputId": "93e7be37-89ea-48c1-ffb5-752a4969a1e3"
      },
      "source": [
        "raw_meanings.info()"
      ],
      "execution_count": null,
      "outputs": [
        {
          "output_type": "stream",
          "text": [
            "<class 'pandas.core.frame.DataFrame'>\n",
            "RangeIndex: 2646087 entries, 0 to 2646086\n",
            "Data columns (total 4 columns):\n",
            " #   Column   Dtype  \n",
            "---  ------   -----  \n",
            " 0   word     object \n",
            " 1   cid      int64  \n",
            " 2   cluster  object \n",
            " 3   isas     float64\n",
            "dtypes: float64(1), int64(1), object(2)\n",
            "memory usage: 80.8+ MB\n"
          ],
          "name": "stdout"
        }
      ]
    },
    {
      "cell_type": "code",
      "metadata": {
        "colab": {
          "base_uri": "https://localhost:8080/",
          "height": 407
        },
        "id": "CB6ZnY5O2rXI",
        "outputId": "bbd82ac7-9d45-4ce7-c8fa-f4920227cd01"
      },
      "source": [
        "meanings = raw_meanings[raw_meanings.word.isin(nodes)]\n",
        "meanings.sort_values(by=['word', 'cid'])"
      ],
      "execution_count": null,
      "outputs": [
        {
          "output_type": "execute_result",
          "data": {
            "text/html": [
              "<div>\n",
              "<style scoped>\n",
              "    .dataframe tbody tr th:only-of-type {\n",
              "        vertical-align: middle;\n",
              "    }\n",
              "\n",
              "    .dataframe tbody tr th {\n",
              "        vertical-align: top;\n",
              "    }\n",
              "\n",
              "    .dataframe thead th {\n",
              "        text-align: right;\n",
              "    }\n",
              "</style>\n",
              "<table border=\"1\" class=\"dataframe\">\n",
              "  <thead>\n",
              "    <tr style=\"text-align: right;\">\n",
              "      <th></th>\n",
              "      <th>word</th>\n",
              "      <th>cid</th>\n",
              "      <th>cluster</th>\n",
              "      <th>isas</th>\n",
              "    </tr>\n",
              "  </thead>\n",
              "  <tbody>\n",
              "    <tr>\n",
              "      <th>148318</th>\n",
              "      <td>автомобиль</td>\n",
              "      <td>0</td>\n",
              "      <td>джип:309.0,грузовик:297.0,фургон:242.0,автобус...</td>\n",
              "      <td>NaN</td>\n",
              "    </tr>\n",
              "    <tr>\n",
              "      <th>431760</th>\n",
              "      <td>автор</td>\n",
              "      <td>0</td>\n",
              "      <td>издатель:33.0,писатель:24.0,переводчик:23.0,по...</td>\n",
              "      <td>NaN</td>\n",
              "    </tr>\n",
              "    <tr>\n",
              "      <th>431761</th>\n",
              "      <td>автор</td>\n",
              "      <td>3</td>\n",
              "      <td>сборник:30.0,сборники:24.0,серия:21.0,цикл:17....</td>\n",
              "      <td>NaN</td>\n",
              "    </tr>\n",
              "    <tr>\n",
              "      <th>431762</th>\n",
              "      <td>автор</td>\n",
              "      <td>4</td>\n",
              "      <td>создатель:80.0,создателя:23.0,основатель:22.0,...</td>\n",
              "      <td>NaN</td>\n",
              "    </tr>\n",
              "    <tr>\n",
              "      <th>431763</th>\n",
              "      <td>автор</td>\n",
              "      <td>5</td>\n",
              "      <td>составитель:101.0,автора:86.0,автором:83.0,авт...</td>\n",
              "      <td>NaN</td>\n",
              "    </tr>\n",
              "    <tr>\n",
              "      <th>...</th>\n",
              "      <td>...</td>\n",
              "      <td>...</td>\n",
              "      <td>...</td>\n",
              "      <td>...</td>\n",
              "    </tr>\n",
              "    <tr>\n",
              "      <th>797460</th>\n",
              "      <td>язва</td>\n",
              "      <td>1</td>\n",
              "      <td>астма:46.0,болезнь:45.0,подагра:40.0,аллергия:...</td>\n",
              "      <td>NaN</td>\n",
              "    </tr>\n",
              "    <tr>\n",
              "      <th>797461</th>\n",
              "      <td>язва</td>\n",
              "      <td>2</td>\n",
              "      <td>рана:109.0,ранка:49.0,ссадина:44.0,опухоль:40....</td>\n",
              "      <td>NaN</td>\n",
              "    </tr>\n",
              "    <tr>\n",
              "      <th>797462</th>\n",
              "      <td>язва</td>\n",
              "      <td>3</td>\n",
              "      <td>бойня:27.0,трагедия:27.0,вражда:23.0,драма:22....</td>\n",
              "      <td>NaN</td>\n",
              "    </tr>\n",
              "    <tr>\n",
              "      <th>797463</th>\n",
              "      <td>язва</td>\n",
              "      <td>4</td>\n",
              "      <td>несварение:64.0,расстройство:44.0,промывание:3...</td>\n",
              "      <td>NaN</td>\n",
              "    </tr>\n",
              "    <tr>\n",
              "      <th>124211</th>\n",
              "      <td>ярость</td>\n",
              "      <td>0</td>\n",
              "      <td>злость:352.0,злоба:286.0,ненависть:219.0,радос...</td>\n",
              "      <td>NaN</td>\n",
              "    </tr>\n",
              "  </tbody>\n",
              "</table>\n",
              "<p>1289 rows × 4 columns</p>\n",
              "</div>"
            ],
            "text/plain": [
              "              word  ...  isas\n",
              "148318  автомобиль  ...   NaN\n",
              "431760       автор  ...   NaN\n",
              "431761       автор  ...   NaN\n",
              "431762       автор  ...   NaN\n",
              "431763       автор  ...   NaN\n",
              "...            ...  ...   ...\n",
              "797460        язва  ...   NaN\n",
              "797461        язва  ...   NaN\n",
              "797462        язва  ...   NaN\n",
              "797463        язва  ...   NaN\n",
              "124211      ярость  ...   NaN\n",
              "\n",
              "[1289 rows x 4 columns]"
            ]
          },
          "metadata": {
            "tags": []
          },
          "execution_count": 129
        }
      ]
    },
    {
      "cell_type": "code",
      "metadata": {
        "id": "6MqaJU-g43ZF"
      },
      "source": [
        "def get_len(cluster):\n",
        "    return len(cluster.split(','))"
      ],
      "execution_count": null,
      "outputs": []
    },
    {
      "cell_type": "code",
      "metadata": {
        "colab": {
          "base_uri": "https://localhost:8080/"
        },
        "id": "of5Dg-VE4r7b",
        "outputId": "310a78bd-69d1-44a9-dc1b-9abafef292ee"
      },
      "source": [
        "meanings['count'] = meanings.cluster.apply(get_len)\n",
        "meanings['count'].describe()"
      ],
      "execution_count": null,
      "outputs": [
        {
          "output_type": "stream",
          "text": [
            "/usr/local/lib/python3.7/dist-packages/ipykernel_launcher.py:1: SettingWithCopyWarning: \n",
            "A value is trying to be set on a copy of a slice from a DataFrame.\n",
            "Try using .loc[row_indexer,col_indexer] = value instead\n",
            "\n",
            "See the caveats in the documentation: https://pandas.pydata.org/pandas-docs/stable/user_guide/indexing.html#returning-a-view-versus-a-copy\n",
            "  \"\"\"Entry point for launching an IPython kernel.\n"
          ],
          "name": "stderr"
        },
        {
          "output_type": "execute_result",
          "data": {
            "text/plain": [
              "count    1289.000000\n",
              "mean      102.060512\n",
              "std        77.399420\n",
              "min         5.000000\n",
              "25%        21.000000\n",
              "50%        95.000000\n",
              "75%       195.000000\n",
              "max       199.000000\n",
              "Name: count, dtype: float64"
            ]
          },
          "metadata": {
            "tags": []
          },
          "execution_count": 132
        }
      ]
    },
    {
      "cell_type": "code",
      "metadata": {
        "colab": {
          "base_uri": "https://localhost:8080/",
          "height": 197
        },
        "id": "RjcLTprf3JyP",
        "outputId": "1e151372-b170-4eaf-fd72-6719310adeff"
      },
      "source": [
        "meanings_edges = pd.DataFrame(columns=['Word', 'MeaningId'])\n",
        "meaning_nodes_dict = dict()\n",
        "\n",
        "for word, group in meanings.groupby(by='word'):\n",
        "    n = 0\n",
        "    for _, row in group.iterrows():\n",
        "        n += 1\n",
        "        meaning_id = f'{word}.{n}'\n",
        "        top5 = [t.split(':')[0] for t in row['cluster'].split(',')[:5]]\n",
        "\n",
        "        meanings_edges = meanings_edges.append({'Word': word,\n",
        "                                                'MeaningId': meaning_id}, \n",
        "                                               ignore_index=True)\n",
        "        \n",
        "        meaning_nodes_dict[meaning_id] = {'MeaningId': meaning_id, 'Top5': ', '.join(top5)}\n",
        "\n",
        "meanings_edges.head()"
      ],
      "execution_count": null,
      "outputs": [
        {
          "output_type": "execute_result",
          "data": {
            "text/html": [
              "<div>\n",
              "<style scoped>\n",
              "    .dataframe tbody tr th:only-of-type {\n",
              "        vertical-align: middle;\n",
              "    }\n",
              "\n",
              "    .dataframe tbody tr th {\n",
              "        vertical-align: top;\n",
              "    }\n",
              "\n",
              "    .dataframe thead th {\n",
              "        text-align: right;\n",
              "    }\n",
              "</style>\n",
              "<table border=\"1\" class=\"dataframe\">\n",
              "  <thead>\n",
              "    <tr style=\"text-align: right;\">\n",
              "      <th></th>\n",
              "      <th>Word</th>\n",
              "      <th>MeaningId</th>\n",
              "    </tr>\n",
              "  </thead>\n",
              "  <tbody>\n",
              "    <tr>\n",
              "      <th>0</th>\n",
              "      <td>автомобиль</td>\n",
              "      <td>автомобиль.1</td>\n",
              "    </tr>\n",
              "    <tr>\n",
              "      <th>1</th>\n",
              "      <td>автор</td>\n",
              "      <td>автор.1</td>\n",
              "    </tr>\n",
              "    <tr>\n",
              "      <th>2</th>\n",
              "      <td>автор</td>\n",
              "      <td>автор.2</td>\n",
              "    </tr>\n",
              "    <tr>\n",
              "      <th>3</th>\n",
              "      <td>автор</td>\n",
              "      <td>автор.3</td>\n",
              "    </tr>\n",
              "    <tr>\n",
              "      <th>4</th>\n",
              "      <td>автор</td>\n",
              "      <td>автор.4</td>\n",
              "    </tr>\n",
              "  </tbody>\n",
              "</table>\n",
              "</div>"
            ],
            "text/plain": [
              "         Word     MeaningId\n",
              "0  автомобиль  автомобиль.1\n",
              "1       автор       автор.1\n",
              "2       автор       автор.2\n",
              "3       автор       автор.3\n",
              "4       автор       автор.4"
            ]
          },
          "metadata": {
            "tags": []
          },
          "execution_count": 203
        }
      ]
    },
    {
      "cell_type": "code",
      "metadata": {
        "colab": {
          "base_uri": "https://localhost:8080/"
        },
        "id": "aQYHrqlsBFYS",
        "outputId": "21bea038-146b-41a6-870c-13f9c7c3e5c4"
      },
      "source": [
        "len(meaning_nodes_dict)"
      ],
      "execution_count": null,
      "outputs": [
        {
          "output_type": "execute_result",
          "data": {
            "text/plain": [
              "1289"
            ]
          },
          "metadata": {
            "tags": []
          },
          "execution_count": 204
        }
      ]
    },
    {
      "cell_type": "code",
      "metadata": {
        "colab": {
          "base_uri": "https://localhost:8080/",
          "height": 197
        },
        "id": "mpbIq6P1y4lC",
        "outputId": "fd9f36ed-cb00-43c9-dce4-2db769bb1fd8"
      },
      "source": [
        "meaning_nodes = pd.DataFrame([x for x in meaning_nodes_dict.values()])\n",
        "meaning_nodes.head()"
      ],
      "execution_count": null,
      "outputs": [
        {
          "output_type": "execute_result",
          "data": {
            "text/html": [
              "<div>\n",
              "<style scoped>\n",
              "    .dataframe tbody tr th:only-of-type {\n",
              "        vertical-align: middle;\n",
              "    }\n",
              "\n",
              "    .dataframe tbody tr th {\n",
              "        vertical-align: top;\n",
              "    }\n",
              "\n",
              "    .dataframe thead th {\n",
              "        text-align: right;\n",
              "    }\n",
              "</style>\n",
              "<table border=\"1\" class=\"dataframe\">\n",
              "  <thead>\n",
              "    <tr style=\"text-align: right;\">\n",
              "      <th></th>\n",
              "      <th>MeaningId</th>\n",
              "      <th>Top5</th>\n",
              "    </tr>\n",
              "  </thead>\n",
              "  <tbody>\n",
              "    <tr>\n",
              "      <th>0</th>\n",
              "      <td>автомобиль.1</td>\n",
              "      <td>джип, грузовик, фургон, автобус, лимузин</td>\n",
              "    </tr>\n",
              "    <tr>\n",
              "      <th>1</th>\n",
              "      <td>автор.1</td>\n",
              "      <td>издатель, писатель, переводчик, поэт, художник</td>\n",
              "    </tr>\n",
              "    <tr>\n",
              "      <th>2</th>\n",
              "      <td>автор.2</td>\n",
              "      <td>сборник, сборники, серия, цикл, подборка</td>\n",
              "    </tr>\n",
              "    <tr>\n",
              "      <th>3</th>\n",
              "      <td>автор.3</td>\n",
              "      <td>создатель, создателя, основатель, владелец, ин...</td>\n",
              "    </tr>\n",
              "    <tr>\n",
              "      <th>4</th>\n",
              "      <td>автор.4</td>\n",
              "      <td>составитель, автора, автором, автору, авторы</td>\n",
              "    </tr>\n",
              "  </tbody>\n",
              "</table>\n",
              "</div>"
            ],
            "text/plain": [
              "      MeaningId                                               Top5\n",
              "0  автомобиль.1           джип, грузовик, фургон, автобус, лимузин\n",
              "1       автор.1     издатель, писатель, переводчик, поэт, художник\n",
              "2       автор.2           сборник, сборники, серия, цикл, подборка\n",
              "3       автор.3  создатель, создателя, основатель, владелец, ин...\n",
              "4       автор.4       составитель, автора, автором, автору, авторы"
            ]
          },
          "metadata": {
            "tags": []
          },
          "execution_count": 206
        }
      ]
    },
    {
      "cell_type": "code",
      "metadata": {
        "id": "EdhomWFW_FhT"
      },
      "source": [
        "meanings_edges.to_csv('meanings.csv', index=False, sep='\\t', header=['Word', 'MeaningId'])"
      ],
      "execution_count": null,
      "outputs": []
    },
    {
      "cell_type": "code",
      "metadata": {
        "id": "ku6JBAK2z_wx"
      },
      "source": [
        "meaning_nodes.to_csv('meaning_nodes.csv', index=False, sep='\\t', header=['MeaningId', 'Top5'])"
      ],
      "execution_count": null,
      "outputs": []
    },
    {
      "cell_type": "code",
      "metadata": {
        "id": "scLfZRXHA_F6"
      },
      "source": [
        "# with open('meanings_nodes.json', 'w', encoding='utf-8') as f:\n",
        "#     json.dump(meaning_nodes, f, ensure_ascii=False, indent=2)"
      ],
      "execution_count": null,
      "outputs": []
    },
    {
      "cell_type": "markdown",
      "metadata": {
        "id": "xae34wIn1Mn9"
      },
      "source": [
        "# Bulk создание базы данных"
      ]
    },
    {
      "cell_type": "code",
      "metadata": {
        "id": "d3gT0_KY3IZe"
      },
      "source": [
        "# Создание всего из csv файлов\n",
        "\n",
        "\"\"\"\n",
        "LOAD CSV WITH HEADERS FROM 'https://raw.githubusercontent.com/toskn/neo4j_db/main/Data/word_nodes.csv' AS line FIELDTERMINATOR '\\t'\n",
        "CREATE (:Word {lemma: line.Lemma, pos: line.POS})\n",
        "\"\"\"\n",
        "\n",
        "\"\"\"\n",
        "LOAD CSV WITH HEADERS FROM 'https://raw.githubusercontent.com/toskn/neo4j_db/main/Data/meaning_nodes.csv' AS line FIELDTERMINATOR '\\t'\n",
        "CREATE (:Meaning {id: line.MeaningId, Top5: line.Top5})\n",
        "\"\"\"\n",
        "\n",
        "\"\"\"\n",
        "LOAD CSV WITH HEADERS FROM 'https://github.com/toskn/neo4j_db/raw/main/Data/hyponyms.csv' AS row FIELDTERMINATOR '\\t'\n",
        "MATCH (s:Word {lemma: row.Source})\n",
        "MATCH (t:Word {lemma: row.Target})\n",
        "MERGE (s)-[:IS_HYPONYM_OF {freq: toInteger(row.Freq)}]->(t)\n",
        "\"\"\"\n",
        "\n",
        "\"\"\"\n",
        "LOAD CSV WITH HEADERS FROM 'https://github.com/toskn/neo4j_db/raw/main/Data/meanings.csv' AS row FIELDTERMINATOR '\\t'\n",
        "MATCH (s:Word {lemma: row.Word})\n",
        "MATCH (t:Meaning {id: row.MeaningId})\n",
        "CREATE (s)-[:HAS_MEANING]->(t)\n",
        "\"\"\""
      ],
      "execution_count": null,
      "outputs": []
    },
    {
      "cell_type": "markdown",
      "metadata": {
        "id": "B4rKfsc1JIiK"
      },
      "source": [
        "# Запросы"
      ]
    },
    {
      "cell_type": "code",
      "metadata": {
        "id": "7Oap8HHt5jTe"
      },
      "source": [
        "# запросы\n",
        "\n",
        "## все гипонимы слова напиток\n",
        "\"\"\"\n",
        "MATCH (x:Word {lemma: 'напиток'})<-[:IS_HYPONYM_OF]-(word)\n",
        "RETURN word.lemma\n",
        "\"\"\"\n",
        "\n",
        "## посчитать кол-во гипонимов слова товар\n",
        "\"\"\"\n",
        "MATCH (n:Word) <-[r]- (word) WHERE n.lemma='товар'\n",
        "RETURN count(word)\n",
        "\"\"\"\n",
        "## топ слов с максимальным кол-вом гиперонимов\n",
        "\"\"\"\n",
        "MATCH (n: Word)-[:IS_HYPONYM_OF]->(word)\n",
        "WITH n, count(word) AS hyperonims\n",
        "ORDER BY hyperonims DESC\n",
        "LIMIT 10\n",
        "RETURN n.lemma, n.pos, hyperonims\n",
        "\"\"\"\n",
        "\n",
        "## самое многозначное слово\n",
        "\"\"\"\n",
        "MATCH (n: Word)-[:HAS_MEANING]-(meaning)\n",
        "WITH n, count(meaning) AS polysem\n",
        "ORDER BY polysem DESC\n",
        "RETURN n.lemma\n",
        "LIMIT 1\n",
        "\"\"\"\n",
        "## и все его значения\n",
        "\"\"\"\n",
        "MATCH (n: Word)-[:HAS_MEANING]->(meaning)\n",
        "WITH n, count(meaning) AS polysem\n",
        "ORDER BY polysem DESC\n",
        "LIMIT 1\n",
        "WITH n.lemma as target \n",
        "MATCH (n: Word {lemma: target})-[:HAS_MEANING]->(meaning)\n",
        "RETURN n, meaning\n",
        "\"\"\"\n",
        "\n",
        "## То же самое, только не узлы, а значения\n",
        "\"\"\"\n",
        "MATCH (n: Word)-[:HAS_MEANING]->(meaning)\n",
        "WITH n, count(meaning) AS polysem\n",
        "ORDER BY polysem DESC\n",
        "LIMIT 1\n",
        "WITH n.lemma as target \n",
        "MATCH (n: Word {lemma: target})-[:HAS_MEANING]->(meaning)\n",
        "RETURN n.lemma, meaning.Top5\n",
        "\"\"\"\n",
        "\n",
        "## слова без значения\n",
        "\"\"\"\n",
        "MATCH (n:Word)\n",
        "WHERE NOT (n)-[:HAS_MEANING]-()\n",
        "RETURN n.lemma\n",
        "\"\"\"\n",
        "\n",
        "## гипонимы слова товар, которые встретились с ним более 100 раз\n",
        "\"\"\"\n",
        "MATCH (n:Word {lemma: 'товар'})<-[r]-(word)\n",
        "WHERE r.freq > 100\n",
        "RETURN n, word\n",
        "\"\"\"\n",
        "\n",
        "## Список частей речи\n",
        "\"\"\"\n",
        "MATCH (n:Word)\n",
        "RETURN DISTINCT n.pos\n",
        "\"\"\"\n",
        "\n",
        "## посчитать кол-во узлов каждой из частей речи и вернуть в порядке убывания\n",
        "\"\"\"\n",
        "MATCH (n:Word)\n",
        "RETURN n.pos, count(*) AS count_pos\n",
        "ORDER BY count_pos DESC\n",
        "\"\"\"\n",
        "\n",
        "## слова содержашие -ться- и их соседи (и слова, и значения)\n",
        "\"\"\"\n",
        "MATCH (n:Word)--(word)\n",
        "WHERE n.lemma CONTAINS 'ться'\n",
        "RETURN n, word\n",
        "\"\"\"\n",
        "\n",
        "## все многозначные эмоции и их значения\n",
        "\"\"\"\n",
        "MATCH (:Word {lemma: 'эмоция'})<-[:IS_HYPONYM_OF]-(emotion)-[:HAS_MEANING]->(meaning)\n",
        "WITH emotion, count(meaning) AS meanings\n",
        "WHERE meanings > 1\n",
        "RETURN (emotion) --> (:Meaning)\n",
        "\"\"\"\n",
        "\n",
        "## все многозначные растения и их значения\n",
        "\"\"\"\n",
        "MATCH (:Word {lemma: 'растение'})<-[:IS_HYPONYM_OF]-(word {pos: 'NOUN'})-[:HAS_MEANING]->(meaning)\n",
        "WITH word, count(meaning) AS meanings\n",
        "WHERE meanings > 1\n",
        "RETURN (word) --> (:Meaning)\n",
        "\"\"\""
      ],
      "execution_count": null,
      "outputs": []
    },
    {
      "cell_type": "code",
      "metadata": {
        "id": "KydJyL9KPpoW"
      },
      "source": [
        "# запросы на графовую структуру ай гесс\n",
        "\n",
        "## ближайший путь от XXX к пулемету (такого нет)\n",
        "\"\"\"\n",
        "OPTIONAL MATCH\n",
        "  (chai:Word {lemma: 'XXX'}),\n",
        "  (gun:Word {lemma: 'пулемет'}),\n",
        "  p = shortestPath((chai)-[*..15]-(gun))\n",
        "RETURN p\n",
        "\"\"\"\n",
        "\n",
        "## ближайший путь от чая к пулемету\n",
        "\"\"\"\n",
        "MATCH\n",
        "  (chai:Word {lemma: 'чай'}),\n",
        "  (gun:Word {lemma: 'пулемет'}),\n",
        "  p = shortestPath((chai)-[*..30]-(gun))\n",
        "RETURN p\n",
        "\"\"\"\n",
        "\n",
        "## пути от автомобиля до ярости длиной от 1 до 5 где все узлы - существительные\n",
        "\"\"\"\n",
        "MATCH p = (a)-[*1..5]-(b)\n",
        "WHERE\n",
        "  a.lemma = 'автомобиль'\n",
        "  AND b.lemma = 'ярость'\n",
        "  AND all(x IN nodes(p) WHERE x.pos = 'NOUN')\n",
        "RETURN p\n",
        "\"\"\"\n",
        "\n",
        "## все пути длиной до 4, содержащие чай 1 раз\n",
        "\"\"\"\n",
        "MATCH p = ()-[*1..4]->()\n",
        "WHERE\n",
        " single(var IN nodes(p) WHERE var.lemma = 'чай')\n",
        "RETURN p\n",
        "\"\"\"\n",
        "\n",
        "## среднее значение полисемии (по факту - среднее значение out degree)\n",
        "\"\"\"\n",
        "MATCH (n: Word)-[:HAS_MEANING]-(meaning)\n",
        "WITH n, count(meaning) AS polysem\n",
        "RETURN avg(polysem)\n",
        "\"\"\"\n",
        "\n",
        "## разделить на сообщества\n",
        "\"\"\"\n",
        "CALL gds.graph.create(\n",
        "    'Communities',\n",
        "    'Word',\n",
        "    'IS_HYPONYM_OF',\n",
        "    {\n",
        "        relationshipProperties: 'freq'\n",
        "    }\n",
        ")\n",
        "\"\"\"\n",
        "\n",
        "\"\"\"\n",
        "CALL gds.labelPropagation.stream('Communities')\n",
        "YIELD nodeId, communityId AS Community\n",
        "SET gds.util.asNode(nodeId).community = Community\n",
        "RETURN  gds.util.asNode(nodeId)\n",
        "\"\"\"\n",
        "\n",
        "## посчитать коээфициент кластеризации\n",
        "\"\"\"\n",
        "CALL gds.graph.create(\n",
        "  'myGraph',\n",
        "  'Word',\n",
        "  {\n",
        "    IS_HYPONYM_OF: {\n",
        "      orientation: 'UNDIRECTED'\n",
        "    }\n",
        "  }\n",
        ")\n",
        "\"\"\"\n",
        "\n",
        "\"\"\"\n",
        "CALL gds.localClusteringCoefficient.mutate('myGraph', {\n",
        "  mutateProperty: 'localClusteringCoefficient'\n",
        "})\n",
        "YIELD averageClusteringCoefficient, nodeCount\n",
        "\"\"\"\n",
        "\n",
        "\"\"\"\n",
        "CALL gds.localClusteringCoefficient.stream('myGraph')\n",
        "YIELD nodeId, localClusteringCoefficient\n",
        "RETURN gds.util.asNode(nodeId).lemma AS name, localClusteringCoefficient\n",
        "ORDER BY localClusteringCoefficient DESC\n",
        "\"\"\"\n",
        "\n",
        "## прочее\n",
        "\"\"\"\n",
        "CALL db.schema.visualization()\n",
        "\"\"\""
      ],
      "execution_count": null,
      "outputs": []
    },
    {
      "cell_type": "markdown",
      "metadata": {
        "id": "xn6o3jWsi_on"
      },
      "source": [
        "Анна Полянская, 2021"
      ]
    }
  ]
}
